{
 "cells": [
  {
   "cell_type": "code",
   "execution_count": 12,
   "id": "3d44f63d",
   "metadata": {},
   "outputs": [
    {
     "name": "stdout",
     "output_type": "stream",
     "text": [
      "The original list is : [[4, 1, 6], [7, 8], [4, 10, 8]]\n",
      "The reverse sorted Matrix is : [[6, 4, 1], [8, 7], [10, 8, 4]]\n"
     ]
    }
   ],
   "source": [
    "# initializing list\n",
    "test_list = [[4, 1, 6], [7, 8], [4, 10, 8]]\n",
    " \n",
    "# printing original list\n",
    "print(\"The original list is : \" + str(test_list))\n",
    " \n",
    "# Reverse Row sort in Lists of List\n",
    "# using loop\n",
    "for ele in test_list:\n",
    "    ele.sort(reverse=True)\n",
    " # printing result\n",
    "print(\"The reverse sorted Matrix is : \" + str(test_list))"
   ]
  },
  {
   "cell_type": "code",
   "execution_count": 13,
   "id": "566464fe",
   "metadata": {},
   "outputs": [
    {
     "name": "stdout",
     "output_type": "stream",
     "text": [
      "The original list is : [[4, 1, 6], [7, 8], [4, 10, 8]]\n",
      "The reverse sorted Matrix is : [[6, 4, 1], [8, 7], [10, 8, 4]]\n"
     ]
    }
   ],
   "source": [
    "# initializing list\n",
    "test_list = [[4, 1, 6], [7, 8], [4, 10, 8]]\n",
    " \n",
    "# printing original list\n",
    "print(\"The original list is : \" + str(test_list))\n",
    " \n",
    "# Reverse Row sort in Lists of List\n",
    "# using list comprehension + sorted()\n",
    "res = [sorted(sub, reverse=True) for sub in test_list]\n",
    " \n",
    "# printing result\n",
    "print(\"The reverse sorted Matrix is : \" + str(res))"
   ]
  },
  {
   "cell_type": "code",
   "execution_count": 14,
   "id": "7f6ade55",
   "metadata": {},
   "outputs": [
    {
     "name": "stdout",
     "output_type": "stream",
     "text": [
      "The original list is : [[4, 1, 6], [7, 8], [4, 10, 8]]\n",
      "The reverse sorted Matrix is : [[6, 4, 1], [8, 7], [10, 8, 4]]\n"
     ]
    }
   ],
   "source": [
    "# initializing list\n",
    "test_list = [[4, 1, 6], [7, 8], [4, 10, 8]]\n",
    " \n",
    "# printing original list\n",
    "print(\"The original list is : \" + str(test_list))\n",
    " \n",
    "# Reverse Row sort in Lists of List\n",
    "# using map + sorted()\n",
    "res = list(map(lambda x: sorted(x, reverse=True), test_list))\n",
    " \n",
    "# printing result\n",
    "print(\"The reverse sorted Matrix is : \" + str(res))"
   ]
  },
  {
   "cell_type": "code",
   "execution_count": 15,
   "id": "5dbdafa5",
   "metadata": {},
   "outputs": [
    {
     "name": "stdout",
     "output_type": "stream",
     "text": [
      "The original list is : [[4, 1, 6], [7, 8], [4, 10, 8]]\n",
      "The reverse sorted Matrix is : [[6, 4, 1], [8, 7], [10, 8, 4]]\n"
     ]
    }
   ],
   "source": [
    "# initializing list\n",
    "test_list = [[4, 1, 6], [7, 8], [4, 10, 8]]\n",
    " \n",
    "# printing original list\n",
    "print(\"The original list is : \" + str(test_list))\n",
    " \n",
    "# Reverse Row sort in Lists of List\n",
    "# using loop\n",
    "res=[]\n",
    "for ele in test_list:\n",
    "    ele.sort()\n",
    "    res.append(ele[::-1])\n",
    "# printing result\n",
    "print(\"The reverse sorted Matrix is : \" + str(res))"
   ]
  },
  {
   "cell_type": "code",
   "execution_count": 16,
   "id": "0c53d536",
   "metadata": {},
   "outputs": [
    {
     "name": "stdout",
     "output_type": "stream",
     "text": [
      "[[6, 4, 1], [8, 7], [10, 8, 4]]\n"
     ]
    }
   ],
   "source": [
    "def reverse_sort_matrix(matrix):\n",
    "    return list(map(lambda row: sorted(row, reverse=True), matrix))\n",
    "matrix=[[4, 1, 6], [7, 8], [4, 10, 8]]\n",
    "print(reverse_sort_matrix(matrix))"
   ]
  },
  {
   "cell_type": "code",
   "execution_count": null,
   "id": "2ed0268f",
   "metadata": {},
   "outputs": [],
   "source": []
  }
 ],
 "metadata": {
  "kernelspec": {
   "display_name": "Python 3 (ipykernel)",
   "language": "python",
   "name": "python3"
  },
  "language_info": {
   "codemirror_mode": {
    "name": "ipython",
    "version": 3
   },
   "file_extension": ".py",
   "mimetype": "text/x-python",
   "name": "python",
   "nbconvert_exporter": "python",
   "pygments_lexer": "ipython3",
   "version": "3.9.17"
  }
 },
 "nbformat": 4,
 "nbformat_minor": 5
}
